{
 "cells": [
  {
   "cell_type": "code",
   "execution_count": 1,
   "metadata": {},
   "outputs": [
    {
     "name": "stdout",
     "output_type": "stream",
     "text": [
      "Probability of answering exactly 5 questions wrong out of 20 questions is:  3.4264958230778435e-06\n"
     ]
    }
   ],
   "source": [
    "# Problem Statement 1:\n",
    "# A test is conducted which is consisting of 20 MCQs (multiple choices questions) with every MCQ having its four options out of \n",
    "# which only one is correct. Determine the probability that a person undertaking that test has answered exactly 5 questions wrong.\n",
    "\n",
    "from scipy.stats import binom\n",
    "\n",
    "# Each question has 3 wrong chaice and 1 correct choice. Probability of getting 1 wrong answer in one question - 0.75\n",
    "# Use probability mass function from stats to get the probability to get 5 questions wrong out of 20. \n",
    "# Total number of questions 20 \n",
    "# Probability of getting 3 wrong in 1 trial is 0.75 \n",
    "print('Probability of answering exactly 5 questions wrong out of 20 questions is: ', binom.pmf(5, 20, 0.75))\n"
   ]
  },
  {
   "cell_type": "code",
   "execution_count": 2,
   "metadata": {},
   "outputs": [
    {
     "name": "stdout",
     "output_type": "stream",
     "text": [
      "Probability of getting a \"D\" exactly 5 times from rolling the die 50 times is:  0.029531204310523224\n"
     ]
    }
   ],
   "source": [
    "# Problem Statement 2:\n",
    "# A die marked A to E is rolled 50 times. Find the probability of getting a “D” exactly 5 times.\n",
    "\n",
    "# Use probability mass function from stats to get the probability to get 'D' exactly 5 times from 50 trials. \n",
    "# Total number of die rolled 50.\n",
    "# Number of sides for the die - 5\n",
    "# Probability to get 'D' from the die - 1 out of 5. Let p be the Probability\n",
    "p=1/5\n",
    "\n",
    "print('Probability of getting a \"D\" exactly 5 times from rolling the die 50 times is: ', binom.pmf(5,50,p))"
   ]
  },
  {
   "cell_type": "code",
   "execution_count": 3,
   "metadata": {},
   "outputs": [
    {
     "name": "stdout",
     "output_type": "stream",
     "text": [
      "   Balls Picked  Probability\n",
      "0      Red, Red     0.133333\n",
      "1    Red, Black     0.266667\n",
      "2    Black, Red     0.266667\n",
      "3  Black, Black     0.333333\n"
     ]
    }
   ],
   "source": [
    "# Problem Statement 3:\n",
    "# Two balls are drawn at random in succession without replacement from an urn containing 4 red balls and 6 black balls.\n",
    "# Find the probabilities of all the possible outcomes.\n",
    "\n",
    "import pandas as pd\n",
    "import matplotlib.pyplot as plt\n",
    "%matplotlib inline\n",
    "\n",
    "# Define number of balls\n",
    "Red_Balls=4\n",
    "Black_Balls=6\n",
    "Total_Balls = Red_Balls + Black_Balls\n",
    "\n",
    "# Since its a without replacement, the number of balls available for the second pick will be total number of balls - 1\n",
    "\n",
    "# 1 - Get the probability of picking 2 red balls. \n",
    "# For the 1st pick, the options will be 4 out of the total number of balls. \n",
    "# For the 2nd pick, the options will be 3 out of the total number of balls - 1.\n",
    "Red_Red = (Red_Balls)/Total_Balls * (Red_Balls - 1)/(Total_Balls - 1)\n",
    "\n",
    "# 2 - Get the probability of picking 1 red ball first and then a black ball. \n",
    "# For the 1st pick, the options will be 4 out of the total number of balls. \n",
    "# For the 2nd pick, the options will be 6 out of the total number of balls - 1. \n",
    "Red_Black = (Red_Balls)/Total_Balls * (Black_Balls)/(Total_Balls - 1)\n",
    "\n",
    "# 3 - Get the probability of picking 1 Black ball first and then a Red ball. \n",
    "# For the 1st pick, the options will be 6 out of the total number of balls. \n",
    "# For the 2nd pick, the options will be 4 out of the total number of balls - 1. \n",
    "Black_Red = (Black_Balls)/Total_Balls * (Red_Balls)/(Total_Balls - 1)\n",
    "\n",
    "# 4 - Get the probability of picking 2 Black balls. \n",
    "# For the 1st pick, the options will be 6 out of the total number of balls. \n",
    "# For the 2nd pick, the options will be 5 out of the total number of balls - 1.\n",
    "Black_Black = (Black_Balls)/Total_Balls * (Black_Balls-1)/(Total_Balls - 1)\n",
    "\n",
    "# Get the probability distribution in a dataframe.\n",
    "prob_df = pd.DataFrame({'Balls Picked': ['Red, Red','Red, Black','Black, Red','Black, Black'],\n",
    "                        'Probability':[Red_Red, Red_Black, Black_Red, Black_Black]})\n",
    "print(prob_df)"
   ]
  },
  {
   "cell_type": "code",
   "execution_count": null,
   "metadata": {},
   "outputs": [],
   "source": []
  }
 ],
 "metadata": {
  "kernelspec": {
   "display_name": "Python 3",
   "language": "python",
   "name": "python3"
  },
  "language_info": {
   "codemirror_mode": {
    "name": "ipython",
    "version": 3
   },
   "file_extension": ".py",
   "mimetype": "text/x-python",
   "name": "python",
   "nbconvert_exporter": "python",
   "pygments_lexer": "ipython3",
   "version": "3.6.6"
  }
 },
 "nbformat": 4,
 "nbformat_minor": 2
}
